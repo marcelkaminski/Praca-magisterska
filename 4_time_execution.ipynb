{
 "cells": [
  {
   "cell_type": "code",
   "execution_count": 6,
   "outputs": [
    {
     "name": "stdout",
     "output_type": "stream",
     "text": [
      "         log_R     log_F     log_M\n",
      "0     3.737670  5.209486  8.368925\n",
      "1     4.356709  3.332205  7.271175\n",
      "2     3.044522  4.290459  7.285198\n",
      "3     5.746203  2.833213  5.688330\n",
      "4     4.317488  4.510860  7.143941\n",
      "...        ...       ...       ...\n",
      "4365  5.087596  2.397895  5.201806\n",
      "4366  1.791759  2.079442  4.404522\n",
      "4367  4.553877  2.639057  5.179534\n",
      "4368  2.484907  6.629363  7.647729\n",
      "4369  0.693147  4.262680  7.516586\n",
      "\n",
      "[4329 rows x 3 columns]\n"
     ]
    }
   ],
   "source": [
    "import pandas as pd\n",
    "data_rfm = pd.read_parquet('df.parquet')\n",
    "data_norm = data_rfm[[\"log_R\", \"log_F\", \"log_M\"]]\n",
    "\n",
    "print(data_norm)"
   ],
   "metadata": {
    "collapsed": false
   }
  },
  {
   "cell_type": "code",
   "execution_count": 2,
   "outputs": [],
   "source": [
    "from sklearn.cluster import KMeans, DBSCAN, OPTICS, AgglomerativeClustering, Birch\n",
    "from minisom import MiniSom\n",
    "import numpy as np\n",
    "import timeit\n",
    "\n",
    "def cluster_kmeans():\n",
    "    n_clusters = 3\n",
    "    kmeans = KMeans(n_clusters = n_clusters)\n",
    "    kmeans.fit(data_norm)\n",
    "    kmeans.predict(data_norm)\n",
    "\n",
    "def cluster_dbscan():\n",
    "    eps = 0.3\n",
    "    min_samples = 11\n",
    "    model = DBSCAN(eps=eps, min_samples=min_samples)\n",
    "    model.fit_predict(data_norm)\n",
    "\n",
    "def cluster_optics():\n",
    "    eps = 0.3\n",
    "    min_samples = 15\n",
    "\n",
    "    model = OPTICS(eps=eps, min_samples=min_samples).fit(data_norm)\n",
    "    model.fit_predict(data_norm)\n",
    "\n",
    "def cluster_agglomerative_hierarchical():\n",
    "    n_clusters = 4\n",
    "    model = AgglomerativeClustering(n_clusters=n_clusters)\n",
    "    model.fit_predict(data_norm)\n",
    "\n",
    "def cluster_birch():\n",
    "    n_clusters = 4\n",
    "    model = Birch(n_clusters=n_clusters)\n",
    "    model.fit_predict(data_norm)\n",
    "\n",
    "def cluster_som():\n",
    "    n_rows, n_cols = 1, 3\n",
    "    n_iterations = 100000\n",
    "\n",
    "    som = MiniSom(n_rows, n_cols, data_norm.shape[1], sigma=0.7, learning_rate=0.5)\n",
    "    som.train_batch(data_norm.values, n_iterations)\n",
    "\n"
   ],
   "metadata": {
    "collapsed": false
   }
  },
  {
   "cell_type": "code",
   "execution_count": 3,
   "outputs": [
    {
     "name": "stdout",
     "output_type": "stream",
     "text": [
      "Średni czas wykonania: 5.3357610560000035 sekundy\n",
      "Odchylenie standardowe: 0.3038762569617348 sekundy\n"
     ]
    }
   ],
   "source": [
    "import timeit\n",
    "\n",
    "times = []\n",
    "\n",
    "# Wykonanie algorytmu n razy\n",
    "n = 100\n",
    "for _ in range(n):\n",
    "    t = timeit.timeit(\"cluster_optics()\", globals=globals(), number=1)\n",
    "    times.append(t)\n",
    "\n",
    "average_time = np.mean(times)\n",
    "standard_deviation = np.std(times)\n",
    "\n",
    "print(f\"Średni czas wykonania: {average_time} sekundy\")\n",
    "print(f\"Odchylenie standardowe: {standard_deviation} sekundy\")"
   ],
   "metadata": {
    "collapsed": false
   }
  },
  {
   "cell_type": "code",
   "execution_count": 5,
   "outputs": [
    {
     "name": "stdout",
     "output_type": "stream",
     "text": [
      "Średni czas wykonania: 4.020368716999999 sekundy\n",
      "Odchylenie standardowe: 0.18528454975949046 sekundy\n"
     ]
    }
   ],
   "source": [
    "import timeit\n",
    "\n",
    "times = []\n",
    "\n",
    "# Wykonanie algorytmu n razy\n",
    "n = 100\n",
    "for _ in range(n):\n",
    "    t = timeit.timeit(\"cluster_som()\", globals=globals(), number=1)\n",
    "    times.append(t)\n",
    "\n",
    "average_time = np.mean(times)\n",
    "standard_deviation = np.std(times)\n",
    "\n",
    "print(f\"Średni czas wykonania: {average_time} sekundy\")\n",
    "print(f\"Odchylenie standardowe: {standard_deviation} sekundy\")"
   ],
   "metadata": {
    "collapsed": false
   }
  },
  {
   "cell_type": "code",
   "execution_count": null,
   "outputs": [],
   "source": [],
   "metadata": {
    "collapsed": false
   }
  }
 ],
 "metadata": {
  "kernelspec": {
   "display_name": "Python 3",
   "language": "python",
   "name": "python3"
  },
  "language_info": {
   "codemirror_mode": {
    "name": "ipython",
    "version": 2
   },
   "file_extension": ".py",
   "mimetype": "text/x-python",
   "name": "python",
   "nbconvert_exporter": "python",
   "pygments_lexer": "ipython2",
   "version": "2.7.6"
  }
 },
 "nbformat": 4,
 "nbformat_minor": 0
}
